{
 "cells": [
  {
   "cell_type": "code",
   "execution_count": 1,
   "id": "5c87811a",
   "metadata": {},
   "outputs": [
    {
     "name": "stdout",
     "output_type": "stream",
     "text": [
      "Requirement already satisfied: pyspark in c:\\users\\hp\\anaconda3\\lib\\site-packages (3.5.0)\n",
      "Requirement already satisfied: py4j==0.10.9.7 in c:\\users\\hp\\anaconda3\\lib\\site-packages (from pyspark) (0.10.9.7)\n",
      "Note: you may need to restart the kernel to use updated packages.\n"
     ]
    }
   ],
   "source": [
    "pip install pyspark"
   ]
  },
  {
   "cell_type": "code",
   "execution_count": 2,
   "id": "fec5acd0",
   "metadata": {},
   "outputs": [],
   "source": [
    "import pyspark "
   ]
  },
  {
   "cell_type": "code",
   "execution_count": 3,
   "id": "26450400",
   "metadata": {},
   "outputs": [],
   "source": [
    "import pandas as pd"
   ]
  },
  {
   "cell_type": "code",
   "execution_count": 4,
   "id": "022f9666",
   "metadata": {},
   "outputs": [],
   "source": [
    "# loading the data\n",
    "data= pd.read_csv(\"cardata.csv\")"
   ]
  },
  {
   "cell_type": "code",
   "execution_count": 4,
   "id": "78dfe576",
   "metadata": {},
   "outputs": [
    {
     "data": {
      "text/html": [
       "<div>\n",
       "<style scoped>\n",
       "    .dataframe tbody tr th:only-of-type {\n",
       "        vertical-align: middle;\n",
       "    }\n",
       "\n",
       "    .dataframe tbody tr th {\n",
       "        vertical-align: top;\n",
       "    }\n",
       "\n",
       "    .dataframe thead th {\n",
       "        text-align: right;\n",
       "    }\n",
       "</style>\n",
       "<table border=\"1\" class=\"dataframe\">\n",
       "  <thead>\n",
       "    <tr style=\"text-align: right;\">\n",
       "      <th></th>\n",
       "      <th>Car_Name</th>\n",
       "      <th>Year</th>\n",
       "      <th>Present_Price</th>\n",
       "      <th>Kms_Driven</th>\n",
       "      <th>Fuel_Type</th>\n",
       "      <th>Seller_Type</th>\n",
       "      <th>Transmission</th>\n",
       "      <th>Owner</th>\n",
       "      <th>Selling_Price</th>\n",
       "    </tr>\n",
       "  </thead>\n",
       "  <tbody>\n",
       "    <tr>\n",
       "      <th>0</th>\n",
       "      <td>ritz</td>\n",
       "      <td>2014</td>\n",
       "      <td>5.59</td>\n",
       "      <td>27000</td>\n",
       "      <td>Petrol</td>\n",
       "      <td>Dealer</td>\n",
       "      <td>Manual</td>\n",
       "      <td>0</td>\n",
       "      <td>3.35</td>\n",
       "    </tr>\n",
       "    <tr>\n",
       "      <th>1</th>\n",
       "      <td>sx4</td>\n",
       "      <td>2013</td>\n",
       "      <td>9.54</td>\n",
       "      <td>43000</td>\n",
       "      <td>Diesel</td>\n",
       "      <td>Dealer</td>\n",
       "      <td>Manual</td>\n",
       "      <td>0</td>\n",
       "      <td>4.75</td>\n",
       "    </tr>\n",
       "    <tr>\n",
       "      <th>2</th>\n",
       "      <td>ciaz</td>\n",
       "      <td>2017</td>\n",
       "      <td>9.85</td>\n",
       "      <td>6900</td>\n",
       "      <td>Petrol</td>\n",
       "      <td>Dealer</td>\n",
       "      <td>Manual</td>\n",
       "      <td>0</td>\n",
       "      <td>7.25</td>\n",
       "    </tr>\n",
       "    <tr>\n",
       "      <th>3</th>\n",
       "      <td>wagon r</td>\n",
       "      <td>2011</td>\n",
       "      <td>4.15</td>\n",
       "      <td>5200</td>\n",
       "      <td>Petrol</td>\n",
       "      <td>Dealer</td>\n",
       "      <td>Manual</td>\n",
       "      <td>0</td>\n",
       "      <td>2.85</td>\n",
       "    </tr>\n",
       "    <tr>\n",
       "      <th>4</th>\n",
       "      <td>swift</td>\n",
       "      <td>2014</td>\n",
       "      <td>6.87</td>\n",
       "      <td>42450</td>\n",
       "      <td>Diesel</td>\n",
       "      <td>Dealer</td>\n",
       "      <td>Manual</td>\n",
       "      <td>0</td>\n",
       "      <td>4.60</td>\n",
       "    </tr>\n",
       "  </tbody>\n",
       "</table>\n",
       "</div>"
      ],
      "text/plain": [
       "  Car_Name  Year  Present_Price  Kms_Driven Fuel_Type Seller_Type  \\\n",
       "0     ritz  2014           5.59       27000    Petrol      Dealer   \n",
       "1      sx4  2013           9.54       43000    Diesel      Dealer   \n",
       "2     ciaz  2017           9.85        6900    Petrol      Dealer   \n",
       "3  wagon r  2011           4.15        5200    Petrol      Dealer   \n",
       "4    swift  2014           6.87       42450    Diesel      Dealer   \n",
       "\n",
       "  Transmission  Owner  Selling_Price  \n",
       "0       Manual      0           3.35  \n",
       "1       Manual      0           4.75  \n",
       "2       Manual      0           7.25  \n",
       "3       Manual      0           2.85  \n",
       "4       Manual      0           4.60  "
      ]
     },
     "execution_count": 4,
     "metadata": {},
     "output_type": "execute_result"
    }
   ],
   "source": [
    "data.head()"
   ]
  },
  {
   "cell_type": "code",
   "execution_count": 5,
   "id": "f6fdf8e5",
   "metadata": {},
   "outputs": [
    {
     "data": {
      "text/plain": [
       "(301, 9)"
      ]
     },
     "execution_count": 5,
     "metadata": {},
     "output_type": "execute_result"
    }
   ],
   "source": [
    "data.shape"
   ]
  },
  {
   "cell_type": "code",
   "execution_count": 6,
   "id": "5a371496",
   "metadata": {},
   "outputs": [
    {
     "data": {
      "text/plain": [
       "array([ 3.35,  4.75,  7.25,  2.85,  4.6 ,  9.25,  6.75,  6.5 ,  8.75,\n",
       "        7.45,  6.85,  7.5 ,  6.1 ,  2.25,  7.75,  3.25,  2.65,  4.9 ,\n",
       "        4.4 ,  2.5 ,  2.9 ,  3.  ,  4.15,  6.  ,  1.95,  3.1 ,  2.35,\n",
       "        4.95,  5.5 ,  2.95,  4.65,  0.35,  5.85,  2.55,  1.25,  1.05,\n",
       "        5.8 , 14.9 , 23.  , 18.  , 16.  ,  2.75,  3.6 ,  4.5 ,  4.1 ,\n",
       "       19.99,  6.95, 18.75, 23.5 , 33.  , 19.75,  4.35, 14.25,  3.95,\n",
       "        1.5 ,  5.25, 14.5 , 14.73, 12.5 ,  3.49, 35.  ,  5.9 ,  3.45,\n",
       "        3.8 , 11.25,  3.51,  4.  , 20.75, 17.  ,  7.05,  9.65,  1.75,\n",
       "        1.7 ,  1.65,  1.45,  1.35,  1.2 ,  1.15,  1.11,  1.1 ,  1.  ,\n",
       "        0.95,  0.9 ,  0.75,  0.8 ,  0.78,  0.72,  0.65,  0.6 ,  0.55,\n",
       "        0.52,  0.51,  0.5 ,  0.48,  0.45,  0.42,  0.4 ,  0.38,  0.31,\n",
       "        0.3 ,  0.27,  0.25,  0.2 ,  0.18,  0.17,  0.16,  0.15,  0.12,\n",
       "        0.1 ,  5.75,  5.15,  7.9 ,  4.85, 11.75,  3.15,  6.45,  3.5 ,\n",
       "        8.25,  5.11,  2.7 ,  6.15, 11.45,  3.9 ,  9.1 ,  4.8 ,  2.  ,\n",
       "        5.35,  6.25,  5.95,  5.2 ,  3.75, 12.9 ,  5.  ,  5.4 ,  7.2 ,\n",
       "       10.25,  8.5 ,  8.4 ,  9.15,  6.6 ,  3.65,  8.35,  6.7 ,  5.3 ,\n",
       "       10.9 ,  8.65,  9.7 ,  2.1 ,  8.99,  7.4 ,  5.65, 10.11,  6.4 ,\n",
       "        8.55,  9.5 , 11.5 ])"
      ]
     },
     "execution_count": 6,
     "metadata": {},
     "output_type": "execute_result"
    }
   ],
   "source": [
    "data[\"Selling_Price\"].unique()"
   ]
  },
  {
   "cell_type": "code",
   "execution_count": 7,
   "id": "fd3e82ae",
   "metadata": {},
   "outputs": [
    {
     "data": {
      "text/plain": [
       "2709"
      ]
     },
     "execution_count": 7,
     "metadata": {},
     "output_type": "execute_result"
    }
   ],
   "source": [
    "data.size"
   ]
  },
  {
   "cell_type": "code",
   "execution_count": 6,
   "id": "b846cc94",
   "metadata": {},
   "outputs": [],
   "source": [
    "from pyspark import SparkConf, SparkContext\n",
    "from pyspark.sql import SQLContext\n",
    "\n",
    "import warnings\n",
    "warnings.filterwarnings('ignore')"
   ]
  },
  {
   "cell_type": "code",
   "execution_count": 2,
   "id": "7793f3f6",
   "metadata": {},
   "outputs": [],
   "source": [
    "# import os                           # no need to run if you are using jupyter & made all environment\n",
    "# os.environ[\"JAVA_HOME\"] = \"/usr/lib/jvm/java-11-openjdk-amd64\""
   ]
  },
  {
   "cell_type": "code",
   "execution_count": 7,
   "id": "90bd3ae0",
   "metadata": {},
   "outputs": [],
   "source": [
    "# Create spark sesion\n",
    "\n",
    "conf = SparkConf().set('spark.ui.port', '4050').setAppName(\"films\").setMaster(\"local[2]\")\n",
    "sc = SparkContext.getOrCreate(conf=conf)\n",
    "sqlContext = SQLContext(sc)\n",
    "#sc.stop()"
   ]
  },
  {
   "cell_type": "code",
   "execution_count": 48,
   "id": "379fece3",
   "metadata": {},
   "outputs": [],
   "source": []
  },
  {
   "cell_type": "code",
   "execution_count": 8,
   "id": "8b4f24dd",
   "metadata": {},
   "outputs": [
    {
     "data": {
      "text/html": [
       "\n",
       "        <div>\n",
       "            <p><b>SparkContext</b></p>\n",
       "\n",
       "            <p><a href=\"http://DESKTOP-9LVHDF4:4050\">Spark UI</a></p>\n",
       "\n",
       "            <dl>\n",
       "              <dt>Version</dt>\n",
       "                <dd><code>v3.5.0</code></dd>\n",
       "              <dt>Master</dt>\n",
       "                <dd><code>local[2]</code></dd>\n",
       "              <dt>AppName</dt>\n",
       "                <dd><code>films</code></dd>\n",
       "            </dl>\n",
       "        </div>\n",
       "        "
      ],
      "text/plain": [
       "<SparkContext master=local[2] appName=films>"
      ]
     },
     "execution_count": 8,
     "metadata": {},
     "output_type": "execute_result"
    }
   ],
   "source": [
    "sc"
   ]
  },
  {
   "cell_type": "code",
   "execution_count": 12,
   "id": "d996fbd1",
   "metadata": {},
   "outputs": [
    {
     "name": "stdout",
     "output_type": "stream",
     "text": [
      "+-------------+----+-------------+----------+---------+-----------+------------+-----+-------------+\n",
      "|     Car_Name|Year|Present_Price|Kms_Driven|Fuel_Type|Seller_Type|Transmission|Owner|Selling_Price|\n",
      "+-------------+----+-------------+----------+---------+-----------+------------+-----+-------------+\n",
      "|         ritz|2014|         5.59|     27000|   Petrol|     Dealer|      Manual|    0|         3.35|\n",
      "|          sx4|2013|         9.54|     43000|   Diesel|     Dealer|      Manual|    0|         4.75|\n",
      "|         ciaz|2017|         9.85|      6900|   Petrol|     Dealer|      Manual|    0|         7.25|\n",
      "|      wagon r|2011|         4.15|      5200|   Petrol|     Dealer|      Manual|    0|         2.85|\n",
      "|        swift|2014|         6.87|     42450|   Diesel|     Dealer|      Manual|    0|          4.6|\n",
      "|vitara brezza|2018|         9.83|      2071|   Diesel|     Dealer|      Manual|    0|         9.25|\n",
      "|         ciaz|2015|         8.12|     18796|   Petrol|     Dealer|      Manual|    0|         6.75|\n",
      "|      s cross|2015|         8.61|     33429|   Diesel|     Dealer|      Manual|    0|          6.5|\n",
      "|         ciaz|2016|         8.89|     20273|   Diesel|     Dealer|      Manual|    0|         8.75|\n",
      "|         ciaz|2015|         8.92|     42367|   Diesel|     Dealer|      Manual|    0|         7.45|\n",
      "|     alto 800|2017|          3.6|      2135|   Petrol|     Dealer|      Manual|    0|         2.85|\n",
      "|         ciaz|2015|        10.38|     51000|   Diesel|     Dealer|      Manual|    0|         6.85|\n",
      "|         ciaz|2015|         9.94|     15000|   Petrol|     Dealer|   Automatic|    0|          7.5|\n",
      "|       ertiga|2015|         7.71|     26000|   Petrol|     Dealer|      Manual|    0|          6.1|\n",
      "|        dzire|2009|         7.21|     77427|   Petrol|     Dealer|      Manual|    0|         2.25|\n",
      "|       ertiga|2016|        10.79|     43000|   Diesel|     Dealer|      Manual|    0|         7.75|\n",
      "|       ertiga|2015|        10.79|     41678|   Diesel|     Dealer|      Manual|    0|         7.25|\n",
      "|       ertiga|2016|        10.79|     43000|   Diesel|     Dealer|      Manual|    0|         7.75|\n",
      "|      wagon r|2015|         5.09|     35500|      CNG|     Dealer|      Manual|    0|         3.25|\n",
      "|          sx4|2010|         7.98|     41442|   Petrol|     Dealer|      Manual|    0|         2.65|\n",
      "+-------------+----+-------------+----------+---------+-----------+------------+-----+-------------+\n",
      "only showing top 20 rows\n",
      "\n"
     ]
    }
   ],
   "source": [
    "# reading data using spark\n",
    "df = sqlContext.read.format('com.databricks.spark.csv').options(header='true', inferschema='true').load(\"cardata.csv\")\n",
    "df.show()"
   ]
  },
  {
   "cell_type": "code",
   "execution_count": null,
   "id": "7bdda3ff",
   "metadata": {},
   "outputs": [],
   "source": []
  },
  {
   "cell_type": "code",
   "execution_count": 6,
   "id": "7c0d1253",
   "metadata": {},
   "outputs": [],
   "source": [
    "# Read data from the URL into a DataFrame\n",
    "# data = spark.read.text(url)"
   ]
  },
  {
   "cell_type": "code",
   "execution_count": 14,
   "id": "732a3001",
   "metadata": {},
   "outputs": [
    {
     "name": "stdout",
     "output_type": "stream",
     "text": [
      "+-------------+----+-------------+----------+---------+-----------+------------+-----+-------------+\n",
      "|     Car_Name|Year|Present_Price|Kms_Driven|Fuel_Type|Seller_Type|Transmission|Owner|Selling_Price|\n",
      "+-------------+----+-------------+----------+---------+-----------+------------+-----+-------------+\n",
      "|         ritz|2014|         5.59|     27000|   Petrol|     Dealer|      Manual|    0|         3.35|\n",
      "|          sx4|2013|         9.54|     43000|   Diesel|     Dealer|      Manual|    0|         4.75|\n",
      "|         ciaz|2017|         9.85|      6900|   Petrol|     Dealer|      Manual|    0|         7.25|\n",
      "|      wagon r|2011|         4.15|      5200|   Petrol|     Dealer|      Manual|    0|         2.85|\n",
      "|        swift|2014|         6.87|     42450|   Diesel|     Dealer|      Manual|    0|          4.6|\n",
      "|vitara brezza|2018|         9.83|      2071|   Diesel|     Dealer|      Manual|    0|         9.25|\n",
      "|         ciaz|2015|         8.12|     18796|   Petrol|     Dealer|      Manual|    0|         6.75|\n",
      "|      s cross|2015|         8.61|     33429|   Diesel|     Dealer|      Manual|    0|          6.5|\n",
      "|         ciaz|2016|         8.89|     20273|   Diesel|     Dealer|      Manual|    0|         8.75|\n",
      "|         ciaz|2015|         8.92|     42367|   Diesel|     Dealer|      Manual|    0|         7.45|\n",
      "|     alto 800|2017|          3.6|      2135|   Petrol|     Dealer|      Manual|    0|         2.85|\n",
      "|         ciaz|2015|        10.38|     51000|   Diesel|     Dealer|      Manual|    0|         6.85|\n",
      "|         ciaz|2015|         9.94|     15000|   Petrol|     Dealer|   Automatic|    0|          7.5|\n",
      "|       ertiga|2015|         7.71|     26000|   Petrol|     Dealer|      Manual|    0|          6.1|\n",
      "|        dzire|2009|         7.21|     77427|   Petrol|     Dealer|      Manual|    0|         2.25|\n",
      "|       ertiga|2016|        10.79|     43000|   Diesel|     Dealer|      Manual|    0|         7.75|\n",
      "|       ertiga|2015|        10.79|     41678|   Diesel|     Dealer|      Manual|    0|         7.25|\n",
      "|       ertiga|2016|        10.79|     43000|   Diesel|     Dealer|      Manual|    0|         7.75|\n",
      "|      wagon r|2015|         5.09|     35500|      CNG|     Dealer|      Manual|    0|         3.25|\n",
      "|          sx4|2010|         7.98|     41442|   Petrol|     Dealer|      Manual|    0|         2.65|\n",
      "+-------------+----+-------------+----------+---------+-----------+------------+-----+-------------+\n",
      "only showing top 20 rows\n",
      "\n"
     ]
    }
   ],
   "source": [
    "# Exploring data using Spark\n",
    "df.show()"
   ]
  },
  {
   "cell_type": "code",
   "execution_count": 15,
   "id": "14f370ff",
   "metadata": {},
   "outputs": [
    {
     "name": "stdout",
     "output_type": "stream",
     "text": [
      "root\n",
      " |-- Car_Name: string (nullable = true)\n",
      " |-- Year: integer (nullable = true)\n",
      " |-- Present_Price: double (nullable = true)\n",
      " |-- Kms_Driven: integer (nullable = true)\n",
      " |-- Fuel_Type: string (nullable = true)\n",
      " |-- Seller_Type: string (nullable = true)\n",
      " |-- Transmission: string (nullable = true)\n",
      " |-- Owner: integer (nullable = true)\n",
      " |-- Selling_Price: double (nullable = true)\n",
      "\n"
     ]
    }
   ],
   "source": [
    "# checking all column dataypes\n",
    "df.printSchema()"
   ]
  },
  {
   "cell_type": "code",
   "execution_count": 17,
   "id": "7c19d212",
   "metadata": {},
   "outputs": [
    {
     "name": "stdout",
     "output_type": "stream",
     "text": [
      "+-------------+\n",
      "|     car_name|\n",
      "+-------------+\n",
      "|         ritz|\n",
      "|          sx4|\n",
      "|         ciaz|\n",
      "|      wagon r|\n",
      "|        swift|\n",
      "|vitara brezza|\n",
      "|         ciaz|\n",
      "|      s cross|\n",
      "|         ciaz|\n",
      "|         ciaz|\n",
      "|     alto 800|\n",
      "|         ciaz|\n",
      "|         ciaz|\n",
      "|       ertiga|\n",
      "|        dzire|\n",
      "|       ertiga|\n",
      "|       ertiga|\n",
      "|       ertiga|\n",
      "|      wagon r|\n",
      "|          sx4|\n",
      "+-------------+\n",
      "only showing top 20 rows\n",
      "\n"
     ]
    }
   ],
   "source": [
    "#Selecting single column\n",
    "df.select('car_name').show()"
   ]
  },
  {
   "cell_type": "code",
   "execution_count": 22,
   "id": "da6b8200",
   "metadata": {},
   "outputs": [
    {
     "name": "stdout",
     "output_type": "stream",
     "text": [
      "+-------------+-------------+\n",
      "|     car_name|selling_price|\n",
      "+-------------+-------------+\n",
      "|         ritz|         3.35|\n",
      "|          sx4|         4.75|\n",
      "|         ciaz|         7.25|\n",
      "|      wagon r|         2.85|\n",
      "|        swift|          4.6|\n",
      "|vitara brezza|         9.25|\n",
      "|         ciaz|         6.75|\n",
      "|      s cross|          6.5|\n",
      "|         ciaz|         8.75|\n",
      "|         ciaz|         7.45|\n",
      "|     alto 800|         2.85|\n",
      "|         ciaz|         6.85|\n",
      "|         ciaz|          7.5|\n",
      "|       ertiga|          6.1|\n",
      "|        dzire|         2.25|\n",
      "|       ertiga|         7.75|\n",
      "|       ertiga|         7.25|\n",
      "|       ertiga|         7.75|\n",
      "|      wagon r|         3.25|\n",
      "|          sx4|         2.65|\n",
      "+-------------+-------------+\n",
      "only showing top 20 rows\n",
      "\n"
     ]
    }
   ],
   "source": [
    "#selecting multiple columns\n",
    "df.select(['car_name', 'selling_price']).show()"
   ]
  },
  {
   "cell_type": "code",
   "execution_count": 21,
   "id": "5f2cbac8",
   "metadata": {},
   "outputs": [
    {
     "data": {
      "text/plain": [
       "301"
      ]
     },
     "execution_count": 21,
     "metadata": {},
     "output_type": "execute_result"
    }
   ],
   "source": [
    "df.count()"
   ]
  },
  {
   "cell_type": "code",
   "execution_count": 23,
   "id": "7831679f",
   "metadata": {},
   "outputs": [
    {
     "name": "stdout",
     "output_type": "stream",
     "text": [
      "+-------------+----+-------------+----------+---------+-----------+------------+-----+-------------+-------+\n",
      "|     Car_Name|Year|Present_Price|Kms_Driven|Fuel_Type|Seller_Type|Transmission|Owner|Selling_Price|  add_p|\n",
      "+-------------+----+-------------+----------+---------+-----------+------------+-----+-------------+-------+\n",
      "|         ritz|2014|         5.59|     27000|   Petrol|     Dealer|      Manual|    0|         3.35|1003.35|\n",
      "|          sx4|2013|         9.54|     43000|   Diesel|     Dealer|      Manual|    0|         4.75|1004.75|\n",
      "|         ciaz|2017|         9.85|      6900|   Petrol|     Dealer|      Manual|    0|         7.25|1007.25|\n",
      "|      wagon r|2011|         4.15|      5200|   Petrol|     Dealer|      Manual|    0|         2.85|1002.85|\n",
      "|        swift|2014|         6.87|     42450|   Diesel|     Dealer|      Manual|    0|          4.6| 1004.6|\n",
      "|vitara brezza|2018|         9.83|      2071|   Diesel|     Dealer|      Manual|    0|         9.25|1009.25|\n",
      "|         ciaz|2015|         8.12|     18796|   Petrol|     Dealer|      Manual|    0|         6.75|1006.75|\n",
      "|      s cross|2015|         8.61|     33429|   Diesel|     Dealer|      Manual|    0|          6.5| 1006.5|\n",
      "|         ciaz|2016|         8.89|     20273|   Diesel|     Dealer|      Manual|    0|         8.75|1008.75|\n",
      "|         ciaz|2015|         8.92|     42367|   Diesel|     Dealer|      Manual|    0|         7.45|1007.45|\n",
      "|     alto 800|2017|          3.6|      2135|   Petrol|     Dealer|      Manual|    0|         2.85|1002.85|\n",
      "|         ciaz|2015|        10.38|     51000|   Diesel|     Dealer|      Manual|    0|         6.85|1006.85|\n",
      "|         ciaz|2015|         9.94|     15000|   Petrol|     Dealer|   Automatic|    0|          7.5| 1007.5|\n",
      "|       ertiga|2015|         7.71|     26000|   Petrol|     Dealer|      Manual|    0|          6.1| 1006.1|\n",
      "|        dzire|2009|         7.21|     77427|   Petrol|     Dealer|      Manual|    0|         2.25|1002.25|\n",
      "|       ertiga|2016|        10.79|     43000|   Diesel|     Dealer|      Manual|    0|         7.75|1007.75|\n",
      "|       ertiga|2015|        10.79|     41678|   Diesel|     Dealer|      Manual|    0|         7.25|1007.25|\n",
      "|       ertiga|2016|        10.79|     43000|   Diesel|     Dealer|      Manual|    0|         7.75|1007.75|\n",
      "|      wagon r|2015|         5.09|     35500|      CNG|     Dealer|      Manual|    0|         3.25|1003.25|\n",
      "|          sx4|2010|         7.98|     41442|   Petrol|     Dealer|      Manual|    0|         2.65|1002.65|\n",
      "+-------------+----+-------------+----------+---------+-----------+------------+-----+-------------+-------+\n",
      "only showing top 20 rows\n",
      "\n"
     ]
    }
   ],
   "source": [
    "### Adding Columns in data frame\n",
    "df_pyspark = df.withColumn('add_p', df['selling_price']+1000)\n",
    "df_pyspark.show()"
   ]
  },
  {
   "cell_type": "code",
   "execution_count": 24,
   "id": "98f570db",
   "metadata": {},
   "outputs": [],
   "source": [
    "### Drop the columns\n",
    "df_pyspark=df_pyspark.drop('add_p')"
   ]
  },
  {
   "cell_type": "code",
   "execution_count": 21,
   "id": "eb7eb8e6",
   "metadata": {},
   "outputs": [
    {
     "name": "stdout",
     "output_type": "stream",
     "text": [
      "+-------------+----+-------------+----------+---------+-----------+------------+-----+-------------+\n",
      "|     Car_Name|Year|Present_Price|Kms_Driven|Fuel_Type|Seller_Type|Transmission|Owner|Selling_Price|\n",
      "+-------------+----+-------------+----------+---------+-----------+------------+-----+-------------+\n",
      "|         ritz|2014|         5.59|     27000|   Petrol|     Dealer|      Manual|    0|         3.35|\n",
      "|          sx4|2013|         9.54|     43000|   Diesel|     Dealer|      Manual|    0|         4.75|\n",
      "|         ciaz|2017|         9.85|      6900|   Petrol|     Dealer|      Manual|    0|         7.25|\n",
      "|      wagon r|2011|         4.15|      5200|   Petrol|     Dealer|      Manual|    0|         2.85|\n",
      "|        swift|2014|         6.87|     42450|   Diesel|     Dealer|      Manual|    0|          4.6|\n",
      "|vitara brezza|2018|         9.83|      2071|   Diesel|     Dealer|      Manual|    0|         9.25|\n",
      "|         ciaz|2015|         8.12|     18796|   Petrol|     Dealer|      Manual|    0|         6.75|\n",
      "|      s cross|2015|         8.61|     33429|   Diesel|     Dealer|      Manual|    0|          6.5|\n",
      "|         ciaz|2016|         8.89|     20273|   Diesel|     Dealer|      Manual|    0|         8.75|\n",
      "|         ciaz|2015|         8.92|     42367|   Diesel|     Dealer|      Manual|    0|         7.45|\n",
      "|     alto 800|2017|          3.6|      2135|   Petrol|     Dealer|      Manual|    0|         2.85|\n",
      "|         ciaz|2015|        10.38|     51000|   Diesel|     Dealer|      Manual|    0|         6.85|\n",
      "|         ciaz|2015|         9.94|     15000|   Petrol|     Dealer|   Automatic|    0|          7.5|\n",
      "|       ertiga|2015|         7.71|     26000|   Petrol|     Dealer|      Manual|    0|          6.1|\n",
      "|        dzire|2009|         7.21|     77427|   Petrol|     Dealer|      Manual|    0|         2.25|\n",
      "|       ertiga|2016|        10.79|     43000|   Diesel|     Dealer|      Manual|    0|         7.75|\n",
      "|       ertiga|2015|        10.79|     41678|   Diesel|     Dealer|      Manual|    0|         7.25|\n",
      "|       ertiga|2016|        10.79|     43000|   Diesel|     Dealer|      Manual|    0|         7.75|\n",
      "|      wagon r|2015|         5.09|     35500|      CNG|     Dealer|      Manual|    0|         3.25|\n",
      "|          sx4|2010|         7.98|     41442|   Petrol|     Dealer|      Manual|    0|         2.65|\n",
      "+-------------+----+-------------+----------+---------+-----------+------------+-----+-------------+\n",
      "only showing top 20 rows\n",
      "\n"
     ]
    }
   ],
   "source": [
    "df.show()"
   ]
  },
  {
   "cell_type": "code",
   "execution_count": 25,
   "id": "b3146e84",
   "metadata": {},
   "outputs": [
    {
     "name": "stdout",
     "output_type": "stream",
     "text": [
      "+-------------+----+-------------+----------+---------+-----------+------------+---------+-------------+\n",
      "|     Car_Name|Year|Present_Price|Kms_Driven|Fuel_Type|Seller_Type|Transmission|car_owner|Selling_Price|\n",
      "+-------------+----+-------------+----------+---------+-----------+------------+---------+-------------+\n",
      "|         ritz|2014|         5.59|     27000|   Petrol|     Dealer|      Manual|        0|         3.35|\n",
      "|          sx4|2013|         9.54|     43000|   Diesel|     Dealer|      Manual|        0|         4.75|\n",
      "|         ciaz|2017|         9.85|      6900|   Petrol|     Dealer|      Manual|        0|         7.25|\n",
      "|      wagon r|2011|         4.15|      5200|   Petrol|     Dealer|      Manual|        0|         2.85|\n",
      "|        swift|2014|         6.87|     42450|   Diesel|     Dealer|      Manual|        0|          4.6|\n",
      "|vitara brezza|2018|         9.83|      2071|   Diesel|     Dealer|      Manual|        0|         9.25|\n",
      "|         ciaz|2015|         8.12|     18796|   Petrol|     Dealer|      Manual|        0|         6.75|\n",
      "|      s cross|2015|         8.61|     33429|   Diesel|     Dealer|      Manual|        0|          6.5|\n",
      "|         ciaz|2016|         8.89|     20273|   Diesel|     Dealer|      Manual|        0|         8.75|\n",
      "|         ciaz|2015|         8.92|     42367|   Diesel|     Dealer|      Manual|        0|         7.45|\n",
      "|     alto 800|2017|          3.6|      2135|   Petrol|     Dealer|      Manual|        0|         2.85|\n",
      "|         ciaz|2015|        10.38|     51000|   Diesel|     Dealer|      Manual|        0|         6.85|\n",
      "|         ciaz|2015|         9.94|     15000|   Petrol|     Dealer|   Automatic|        0|          7.5|\n",
      "|       ertiga|2015|         7.71|     26000|   Petrol|     Dealer|      Manual|        0|          6.1|\n",
      "|        dzire|2009|         7.21|     77427|   Petrol|     Dealer|      Manual|        0|         2.25|\n",
      "|       ertiga|2016|        10.79|     43000|   Diesel|     Dealer|      Manual|        0|         7.75|\n",
      "|       ertiga|2015|        10.79|     41678|   Diesel|     Dealer|      Manual|        0|         7.25|\n",
      "|       ertiga|2016|        10.79|     43000|   Diesel|     Dealer|      Manual|        0|         7.75|\n",
      "|      wagon r|2015|         5.09|     35500|      CNG|     Dealer|      Manual|        0|         3.25|\n",
      "|          sx4|2010|         7.98|     41442|   Petrol|     Dealer|      Manual|        0|         2.65|\n",
      "+-------------+----+-------------+----------+---------+-----------+------------+---------+-------------+\n",
      "only showing top 20 rows\n",
      "\n"
     ]
    }
   ],
   "source": [
    "### Rename the columns\n",
    "df_pyspark.withColumnRenamed('owner','car_owner').show()"
   ]
  },
  {
   "cell_type": "code",
   "execution_count": 26,
   "id": "34517653",
   "metadata": {},
   "outputs": [
    {
     "name": "stdout",
     "output_type": "stream",
     "text": [
      "+--------+----+-------------+----------+---------+-----------+------------+-----+-------------+\n",
      "|Car_Name|Year|Present_Price|Kms_Driven|Fuel_Type|Seller_Type|Transmission|Owner|Selling_Price|\n",
      "+--------+----+-------------+----------+---------+-----------+------------+-----+-------------+\n",
      "+--------+----+-------------+----------+---------+-----------+------------+-----+-------------+\n",
      "\n"
     ]
    }
   ],
   "source": [
    "# Filter rows with any null values\n",
    "from pyspark.sql.functions import col\n",
    "\n",
    "null_records = df_pyspark.filter(\n",
    "    col(\"Car_Name\").isNull() |\n",
    "    col(\"Present_Price\").isNull() |\n",
    "    col(\"Transmission\").isNull() \n",
    "    # Add more columns as needed...\n",
    ")\n",
    "\n",
    "# Display the null records\n",
    "null_records.show()\n",
    "\n"
   ]
  },
  {
   "cell_type": "code",
   "execution_count": 27,
   "id": "e96e73f5",
   "metadata": {},
   "outputs": [
    {
     "name": "stdout",
     "output_type": "stream",
     "text": [
      "+-------------+----+-------------+----------+---------+-----------+------------+-----+-------------+\n",
      "|     Car_Name|Year|Present_Price|Kms_Driven|Fuel_Type|Seller_Type|Transmission|Owner|Selling_Price|\n",
      "+-------------+----+-------------+----------+---------+-----------+------------+-----+-------------+\n",
      "|         ritz|2014|         5.59|     27000|   Petrol|     Dealer|      Manual|    0|         3.35|\n",
      "|          sx4|2013|         9.54|     43000|   Diesel|     Dealer|      Manual|    0|         4.75|\n",
      "|         ciaz|2017|         9.85|      6900|   Petrol|     Dealer|      Manual|    0|         7.25|\n",
      "|      wagon r|2011|         4.15|      5200|   Petrol|     Dealer|      Manual|    0|         2.85|\n",
      "|        swift|2014|         6.87|     42450|   Diesel|     Dealer|      Manual|    0|          4.6|\n",
      "|vitara brezza|2018|         9.83|      2071|   Diesel|     Dealer|      Manual|    0|         9.25|\n",
      "|         ciaz|2015|         8.12|     18796|   Petrol|     Dealer|      Manual|    0|         6.75|\n",
      "|      s cross|2015|         8.61|     33429|   Diesel|     Dealer|      Manual|    0|          6.5|\n",
      "|         ciaz|2016|         8.89|     20273|   Diesel|     Dealer|      Manual|    0|         8.75|\n",
      "|         ciaz|2015|         8.92|     42367|   Diesel|     Dealer|      Manual|    0|         7.45|\n",
      "|     alto 800|2017|          3.6|      2135|   Petrol|     Dealer|      Manual|    0|         2.85|\n",
      "|         ciaz|2015|        10.38|     51000|   Diesel|     Dealer|      Manual|    0|         6.85|\n",
      "|         ciaz|2015|         9.94|     15000|   Petrol|     Dealer|   Automatic|    0|          7.5|\n",
      "|       ertiga|2015|         7.71|     26000|   Petrol|     Dealer|      Manual|    0|          6.1|\n",
      "|        dzire|2009|         7.21|     77427|   Petrol|     Dealer|      Manual|    0|         2.25|\n",
      "|       ertiga|2016|        10.79|     43000|   Diesel|     Dealer|      Manual|    0|         7.75|\n",
      "|       ertiga|2015|        10.79|     41678|   Diesel|     Dealer|      Manual|    0|         7.25|\n",
      "|       ertiga|2016|        10.79|     43000|   Diesel|     Dealer|      Manual|    0|         7.75|\n",
      "|      wagon r|2015|         5.09|     35500|      CNG|     Dealer|      Manual|    0|         3.25|\n",
      "|          sx4|2010|         7.98|     41442|   Petrol|     Dealer|      Manual|    0|         2.65|\n",
      "+-------------+----+-------------+----------+---------+-----------+------------+-----+-------------+\n",
      "only showing top 20 rows\n",
      "\n"
     ]
    }
   ],
   "source": [
    "### how='any' -> drop a row if it contains any no. of nulls.\n",
    "df_pyspark.na.drop(how=\"any\").show()"
   ]
  },
  {
   "cell_type": "code",
   "execution_count": 28,
   "id": "1552238f",
   "metadata": {},
   "outputs": [
    {
     "name": "stdout",
     "output_type": "stream",
     "text": [
      "+--------+----+-------------+\n",
      "|car_Name|Year|Selling_Price|\n",
      "+--------+----+-------------+\n",
      "|    ritz|2014|         3.35|\n",
      "| wagon r|2011|         2.85|\n",
      "|alto 800|2017|         2.85|\n",
      "|   dzire|2009|         2.25|\n",
      "| wagon r|2015|         3.25|\n",
      "|     sx4|2010|         2.65|\n",
      "|alto k10|2016|         2.85|\n",
      "|alto k10|2014|          2.5|\n",
      "| wagon r|2013|          2.9|\n",
      "|   swift|2011|          3.0|\n",
      "|alto k10|2010|         1.95|\n",
      "|    ritz|2012|          3.1|\n",
      "|    ritz|2011|         2.35|\n",
      "|     sx4|2011|         2.95|\n",
      "|     800|2003|         0.35|\n",
      "|alto k10|2016|          3.0|\n",
      "|     sx4|2003|         2.25|\n",
      "|alto k10|2014|         2.55|\n",
      "|     sx4|2008|         1.95|\n",
      "|    omni|2012|         1.25|\n",
      "+--------+----+-------------+\n",
      "only showing top 20 rows\n",
      "\n"
     ]
    }
   ],
   "source": [
    "### Selling price of the car less than to 4\n",
    "df_pyspark.filter(\"Selling_Price<4\").select(['car_Name','Year', 'Selling_Price']).show()"
   ]
  },
  {
   "cell_type": "code",
   "execution_count": 29,
   "id": "5353ad7a",
   "metadata": {},
   "outputs": [
    {
     "data": {
      "text/plain": [
       "159"
      ]
     },
     "execution_count": 29,
     "metadata": {},
     "output_type": "execute_result"
    }
   ],
   "source": [
    "df_pyspark.filter(\"Selling_Price<4\").select(['car_Name','Year', 'Selling_Price']).count()"
   ]
  },
  {
   "cell_type": "code",
   "execution_count": 30,
   "id": "a4969992",
   "metadata": {},
   "outputs": [
    {
     "name": "stdout",
     "output_type": "stream",
     "text": [
      "+-----------+-----+\n",
      "|Seller_Type|count|\n",
      "+-----------+-----+\n",
      "| Individual|   49|\n",
      "|     Dealer|  151|\n",
      "+-----------+-----+\n",
      "\n"
     ]
    }
   ],
   "source": [
    "# counting the occurrences of each seller type group having kms driven greater than 20000\n",
    "df_transformed =df_pyspark.filter(df[\"kms_driven\"] > 20000).groupBy(\"Seller_Type\").count()\n",
    "df_transformed.show()"
   ]
  },
  {
   "cell_type": "code",
   "execution_count": 33,
   "id": "56104622",
   "metadata": {},
   "outputs": [
    {
     "data": {
      "text/plain": [
       "207"
      ]
     },
     "execution_count": 33,
     "metadata": {},
     "output_type": "execute_result"
    }
   ],
   "source": [
    "# total records in which car kms less than 10k & greater than 30k\n",
    "df_pyspark.filter((df_pyspark['kms_driven']<=10000) |\n",
    "                  (df_pyspark['kms_driven']>=30000)).count()"
   ]
  },
  {
   "cell_type": "code",
   "execution_count": 34,
   "id": "d3eeb454",
   "metadata": {},
   "outputs": [
    {
     "name": "stdout",
     "output_type": "stream",
     "text": [
      "+--------------------+------------------+------------------+------------------+----------+------------------+\n",
      "|            car_Name|         avg(Year)|avg(Present_Price)|   avg(Kms_Driven)|avg(Owner)|avg(Selling_Price)|\n",
      "+--------------------+------------------+------------------+------------------+----------+------------------+\n",
      "|            TVS Wego|            2010.0|              0.52|           22000.0|       0.0|              0.25|\n",
      "|           Hero Hunk|            2007.0|              0.75|           49000.0|       1.0|               0.2|\n",
      "|                 800|            2003.0|              2.28|          127000.0|       0.0|              0.35|\n",
      "|   Yamaha FZ S V 2.0|2015.6666666666667|              0.84|28666.666666666668|       0.0|0.6033333333333334|\n",
      "|       corolla altis|         2012.0625|           17.5825|         54293.875|       0.0|7.1831249999999995|\n",
      "|             wagon r|           2011.25|              4.45|          40644.75|       0.0|            2.5125|\n",
      "|Royal Enfield Thu...|2014.6666666666667|1.8999999999999997| 7466.666666666667|       0.0|               1.3|\n",
      "|  UM Renegade Mojave|            2017.0|              1.82|            1400.0|       0.0|               1.7|\n",
      "|           Activa 4g|            2017.0|              0.51|            1300.0|       0.0|               0.4|\n",
      "|      Hyosung GT250R|            2014.0|              3.45|           16500.0|       1.0|              1.35|\n",
      "|   Bajaj Dominar 400|            2017.0|               1.6|            1200.0|       0.0|              1.45|\n",
      "|   Bajaj Avenger 220|2016.6666666666667|0.9499999999999998|1766.6666666666667|       0.0|              0.79|\n",
      "|  Bajaj Discover 125|            2011.5|              0.57|           30000.0|       1.0|             0.175|\n",
      "|  Hero Splender Plus|            2016.0|              0.48|           50000.0|       0.0|               0.3|\n",
      "|         etios cross|2014.6666666666667| 7.966666666666666|54707.333333333336|       0.0| 4.633333333333334|\n",
      "|        Yamaha FZ 16|            2015.0|              0.82|           18000.0|       0.0|              0.75|\n",
      "|           KTM RC390|            2015.0|              2.37|           21700.0|       0.0|              1.35|\n",
      "| Mahindra Mojo XT300|            2016.0|               1.4|           35000.0|       0.0|              1.15|\n",
      "|               creta|2015.6666666666667|              13.6|42201.666666666664|       0.0|11.799999999999999|\n",
      "|                 i10|            2011.6|             4.566|           39750.4|       0.0|              3.06|\n",
      "+--------------------+------------------+------------------+------------------+----------+------------------+\n",
      "only showing top 20 rows\n",
      "\n"
     ]
    }
   ],
   "source": [
    "# mean value of numerical column\n",
    "df_pyspark.groupBy('car_Name').mean().show()"
   ]
  },
  {
   "cell_type": "code",
   "execution_count": 37,
   "id": "bab08f9f",
   "metadata": {},
   "outputs": [
    {
     "name": "stdout",
     "output_type": "stream",
     "text": [
      "+---------------+\n",
      "|sum(kms_driven)|\n",
      "+---------------+\n",
      "|       11121109|\n",
      "+---------------+\n",
      "\n"
     ]
    }
   ],
   "source": [
    "df_pyspark.agg({'kms_driven':'sum'}).show()"
   ]
  },
  {
   "cell_type": "code",
   "execution_count": 38,
   "id": "0bb49cfe",
   "metadata": {},
   "outputs": [
    {
     "data": {
      "text/html": [
       "<div>\n",
       "<style scoped>\n",
       "    .dataframe tbody tr th:only-of-type {\n",
       "        vertical-align: middle;\n",
       "    }\n",
       "\n",
       "    .dataframe tbody tr th {\n",
       "        vertical-align: top;\n",
       "    }\n",
       "\n",
       "    .dataframe thead th {\n",
       "        text-align: right;\n",
       "    }\n",
       "</style>\n",
       "<table border=\"1\" class=\"dataframe\">\n",
       "  <thead>\n",
       "    <tr style=\"text-align: right;\">\n",
       "      <th></th>\n",
       "      <th>Car_Name</th>\n",
       "      <th>Year</th>\n",
       "      <th>Present_Price</th>\n",
       "      <th>Kms_Driven</th>\n",
       "      <th>Fuel_Type</th>\n",
       "      <th>Seller_Type</th>\n",
       "      <th>Transmission</th>\n",
       "      <th>Owner</th>\n",
       "      <th>Selling_Price</th>\n",
       "    </tr>\n",
       "  </thead>\n",
       "  <tbody>\n",
       "    <tr>\n",
       "      <th>0</th>\n",
       "      <td>ritz</td>\n",
       "      <td>2014</td>\n",
       "      <td>5.59</td>\n",
       "      <td>27000</td>\n",
       "      <td>Petrol</td>\n",
       "      <td>Dealer</td>\n",
       "      <td>Manual</td>\n",
       "      <td>0</td>\n",
       "      <td>3.35</td>\n",
       "    </tr>\n",
       "    <tr>\n",
       "      <th>1</th>\n",
       "      <td>sx4</td>\n",
       "      <td>2013</td>\n",
       "      <td>9.54</td>\n",
       "      <td>43000</td>\n",
       "      <td>Diesel</td>\n",
       "      <td>Dealer</td>\n",
       "      <td>Manual</td>\n",
       "      <td>0</td>\n",
       "      <td>4.75</td>\n",
       "    </tr>\n",
       "    <tr>\n",
       "      <th>2</th>\n",
       "      <td>ciaz</td>\n",
       "      <td>2017</td>\n",
       "      <td>9.85</td>\n",
       "      <td>6900</td>\n",
       "      <td>Petrol</td>\n",
       "      <td>Dealer</td>\n",
       "      <td>Manual</td>\n",
       "      <td>0</td>\n",
       "      <td>7.25</td>\n",
       "    </tr>\n",
       "    <tr>\n",
       "      <th>3</th>\n",
       "      <td>wagon r</td>\n",
       "      <td>2011</td>\n",
       "      <td>4.15</td>\n",
       "      <td>5200</td>\n",
       "      <td>Petrol</td>\n",
       "      <td>Dealer</td>\n",
       "      <td>Manual</td>\n",
       "      <td>0</td>\n",
       "      <td>2.85</td>\n",
       "    </tr>\n",
       "    <tr>\n",
       "      <th>4</th>\n",
       "      <td>swift</td>\n",
       "      <td>2014</td>\n",
       "      <td>6.87</td>\n",
       "      <td>42450</td>\n",
       "      <td>Diesel</td>\n",
       "      <td>Dealer</td>\n",
       "      <td>Manual</td>\n",
       "      <td>0</td>\n",
       "      <td>4.60</td>\n",
       "    </tr>\n",
       "    <tr>\n",
       "      <th>...</th>\n",
       "      <td>...</td>\n",
       "      <td>...</td>\n",
       "      <td>...</td>\n",
       "      <td>...</td>\n",
       "      <td>...</td>\n",
       "      <td>...</td>\n",
       "      <td>...</td>\n",
       "      <td>...</td>\n",
       "      <td>...</td>\n",
       "    </tr>\n",
       "    <tr>\n",
       "      <th>296</th>\n",
       "      <td>city</td>\n",
       "      <td>2016</td>\n",
       "      <td>11.60</td>\n",
       "      <td>33988</td>\n",
       "      <td>Diesel</td>\n",
       "      <td>Dealer</td>\n",
       "      <td>Manual</td>\n",
       "      <td>0</td>\n",
       "      <td>9.50</td>\n",
       "    </tr>\n",
       "    <tr>\n",
       "      <th>297</th>\n",
       "      <td>brio</td>\n",
       "      <td>2015</td>\n",
       "      <td>5.90</td>\n",
       "      <td>60000</td>\n",
       "      <td>Petrol</td>\n",
       "      <td>Dealer</td>\n",
       "      <td>Manual</td>\n",
       "      <td>0</td>\n",
       "      <td>4.00</td>\n",
       "    </tr>\n",
       "    <tr>\n",
       "      <th>298</th>\n",
       "      <td>city</td>\n",
       "      <td>2009</td>\n",
       "      <td>11.00</td>\n",
       "      <td>87934</td>\n",
       "      <td>Petrol</td>\n",
       "      <td>Dealer</td>\n",
       "      <td>Manual</td>\n",
       "      <td>0</td>\n",
       "      <td>3.35</td>\n",
       "    </tr>\n",
       "    <tr>\n",
       "      <th>299</th>\n",
       "      <td>city</td>\n",
       "      <td>2017</td>\n",
       "      <td>12.50</td>\n",
       "      <td>9000</td>\n",
       "      <td>Diesel</td>\n",
       "      <td>Dealer</td>\n",
       "      <td>Manual</td>\n",
       "      <td>0</td>\n",
       "      <td>11.50</td>\n",
       "    </tr>\n",
       "    <tr>\n",
       "      <th>300</th>\n",
       "      <td>brio</td>\n",
       "      <td>2016</td>\n",
       "      <td>5.90</td>\n",
       "      <td>5464</td>\n",
       "      <td>Petrol</td>\n",
       "      <td>Dealer</td>\n",
       "      <td>Manual</td>\n",
       "      <td>0</td>\n",
       "      <td>5.30</td>\n",
       "    </tr>\n",
       "  </tbody>\n",
       "</table>\n",
       "<p>301 rows × 9 columns</p>\n",
       "</div>"
      ],
      "text/plain": [
       "    Car_Name  Year  Present_Price  Kms_Driven Fuel_Type Seller_Type  \\\n",
       "0       ritz  2014           5.59       27000    Petrol      Dealer   \n",
       "1        sx4  2013           9.54       43000    Diesel      Dealer   \n",
       "2       ciaz  2017           9.85        6900    Petrol      Dealer   \n",
       "3    wagon r  2011           4.15        5200    Petrol      Dealer   \n",
       "4      swift  2014           6.87       42450    Diesel      Dealer   \n",
       "..       ...   ...            ...         ...       ...         ...   \n",
       "296     city  2016          11.60       33988    Diesel      Dealer   \n",
       "297     brio  2015           5.90       60000    Petrol      Dealer   \n",
       "298     city  2009          11.00       87934    Petrol      Dealer   \n",
       "299     city  2017          12.50        9000    Diesel      Dealer   \n",
       "300     brio  2016           5.90        5464    Petrol      Dealer   \n",
       "\n",
       "    Transmission  Owner  Selling_Price  \n",
       "0         Manual      0           3.35  \n",
       "1         Manual      0           4.75  \n",
       "2         Manual      0           7.25  \n",
       "3         Manual      0           2.85  \n",
       "4         Manual      0           4.60  \n",
       "..           ...    ...            ...  \n",
       "296       Manual      0           9.50  \n",
       "297       Manual      0           4.00  \n",
       "298       Manual      0           3.35  \n",
       "299       Manual      0          11.50  \n",
       "300       Manual      0           5.30  \n",
       "\n",
       "[301 rows x 9 columns]"
      ]
     },
     "execution_count": 38,
     "metadata": {},
     "output_type": "execute_result"
    }
   ],
   "source": [
    "## Descriptive analysis\n",
    "df1 =df_pyspark.toPandas()\n",
    "df1"
   ]
  },
  {
   "cell_type": "markdown",
   "id": "956414c0",
   "metadata": {},
   "source": [
    "# Feature Encoding"
   ]
  },
  {
   "cell_type": "code",
   "execution_count": 40,
   "id": "9f43ab76",
   "metadata": {},
   "outputs": [],
   "source": [
    "from pyspark.ml.feature import StringIndexer, OneHotEncoder, VectorAssembler\n",
    "from pyspark.ml import Pipeline"
   ]
  },
  {
   "cell_type": "code",
   "execution_count": 41,
   "id": "9dfe4bc4",
   "metadata": {},
   "outputs": [
    {
     "name": "stdout",
     "output_type": "stream",
     "text": [
      "+-------------+----+-------------+----------+---------+-----------+------------+-----+-------------+---------------+-----------------+------------------+\n",
      "|     Car_Name|Year|Present_Price|Kms_Driven|Fuel_Type|Seller_Type|Transmission|Owner|Selling_Price|Fuel_Type_index|Seller_Type_index|Transmission_index|\n",
      "+-------------+----+-------------+----------+---------+-----------+------------+-----+-------------+---------------+-----------------+------------------+\n",
      "|         ritz|2014|         5.59|     27000|   Petrol|     Dealer|      Manual|    0|         3.35|            0.0|              0.0|               0.0|\n",
      "|          sx4|2013|         9.54|     43000|   Diesel|     Dealer|      Manual|    0|         4.75|            1.0|              0.0|               0.0|\n",
      "|         ciaz|2017|         9.85|      6900|   Petrol|     Dealer|      Manual|    0|         7.25|            0.0|              0.0|               0.0|\n",
      "|      wagon r|2011|         4.15|      5200|   Petrol|     Dealer|      Manual|    0|         2.85|            0.0|              0.0|               0.0|\n",
      "|        swift|2014|         6.87|     42450|   Diesel|     Dealer|      Manual|    0|          4.6|            1.0|              0.0|               0.0|\n",
      "|vitara brezza|2018|         9.83|      2071|   Diesel|     Dealer|      Manual|    0|         9.25|            1.0|              0.0|               0.0|\n",
      "|         ciaz|2015|         8.12|     18796|   Petrol|     Dealer|      Manual|    0|         6.75|            0.0|              0.0|               0.0|\n",
      "|      s cross|2015|         8.61|     33429|   Diesel|     Dealer|      Manual|    0|          6.5|            1.0|              0.0|               0.0|\n",
      "|         ciaz|2016|         8.89|     20273|   Diesel|     Dealer|      Manual|    0|         8.75|            1.0|              0.0|               0.0|\n",
      "|         ciaz|2015|         8.92|     42367|   Diesel|     Dealer|      Manual|    0|         7.45|            1.0|              0.0|               0.0|\n",
      "|     alto 800|2017|          3.6|      2135|   Petrol|     Dealer|      Manual|    0|         2.85|            0.0|              0.0|               0.0|\n",
      "|         ciaz|2015|        10.38|     51000|   Diesel|     Dealer|      Manual|    0|         6.85|            1.0|              0.0|               0.0|\n",
      "|         ciaz|2015|         9.94|     15000|   Petrol|     Dealer|   Automatic|    0|          7.5|            0.0|              0.0|               1.0|\n",
      "|       ertiga|2015|         7.71|     26000|   Petrol|     Dealer|      Manual|    0|          6.1|            0.0|              0.0|               0.0|\n",
      "|        dzire|2009|         7.21|     77427|   Petrol|     Dealer|      Manual|    0|         2.25|            0.0|              0.0|               0.0|\n",
      "|       ertiga|2016|        10.79|     43000|   Diesel|     Dealer|      Manual|    0|         7.75|            1.0|              0.0|               0.0|\n",
      "|       ertiga|2015|        10.79|     41678|   Diesel|     Dealer|      Manual|    0|         7.25|            1.0|              0.0|               0.0|\n",
      "|       ertiga|2016|        10.79|     43000|   Diesel|     Dealer|      Manual|    0|         7.75|            1.0|              0.0|               0.0|\n",
      "|      wagon r|2015|         5.09|     35500|      CNG|     Dealer|      Manual|    0|         3.25|            2.0|              0.0|               0.0|\n",
      "|          sx4|2010|         7.98|     41442|   Petrol|     Dealer|      Manual|    0|         2.65|            0.0|              0.0|               0.0|\n",
      "+-------------+----+-------------+----------+---------+-----------+------------+-----+-------------+---------------+-----------------+------------------+\n",
      "only showing top 20 rows\n",
      "\n"
     ]
    }
   ],
   "source": [
    "categorical_columns = ['Fuel_Type', 'Seller_Type', 'Transmission']\n",
    "\n",
    "indexers = [StringIndexer(inputCol=column, outputCol=column+\"_index\") for column in categorical_columns]\n",
    "\n",
    "\n",
    "pipeline = Pipeline(stages=indexers)\n",
    "\n",
    "model = pipeline.fit(df_pyspark)\n",
    "df_pyspark = model.transform(df_pyspark)\n",
    "df_pyspark.show()\n"
   ]
  },
  {
   "cell_type": "code",
   "execution_count": 17,
   "id": "1936b9eb",
   "metadata": {},
   "outputs": [
    {
     "name": "stdout",
     "output_type": "stream",
     "text": [
      "root\n",
      " |-- Car_Name: string (nullable = true)\n",
      " |-- Year: integer (nullable = true)\n",
      " |-- Present_Price: double (nullable = true)\n",
      " |-- Kms_Driven: integer (nullable = true)\n",
      " |-- Fuel_Type: string (nullable = true)\n",
      " |-- Seller_Type: string (nullable = true)\n",
      " |-- Transmission: string (nullable = true)\n",
      " |-- Owner: integer (nullable = true)\n",
      " |-- Selling_Price: double (nullable = true)\n",
      " |-- Fuel_Type_index: double (nullable = false)\n",
      " |-- Seller_Type_index: double (nullable = false)\n",
      " |-- Transmission_index: double (nullable = false)\n",
      "\n"
     ]
    }
   ],
   "source": [
    "df_pyspark.printSchema()"
   ]
  },
  {
   "cell_type": "markdown",
   "id": "48c8f9c2",
   "metadata": {},
   "source": [
    "# The VectorAssembler is used to combine multiple input columns into a single vector column."
   ]
  },
  {
   "cell_type": "code",
   "execution_count": 43,
   "id": "64b47bff",
   "metadata": {},
   "outputs": [
    {
     "name": "stdout",
     "output_type": "stream",
     "text": [
      "+--------------------+-------------+-------------+\n",
      "|            features|selling_Price|     Car_Name|\n",
      "+--------------------+-------------+-------------+\n",
      "|(7,[0,1,2],[2014....|         3.35|         ritz|\n",
      "|[2013.0,9.54,4300...|         4.75|          sx4|\n",
      "|(7,[0,1,2],[2017....|         7.25|         ciaz|\n",
      "|(7,[0,1,2],[2011....|         2.85|      wagon r|\n",
      "|[2014.0,6.87,4245...|          4.6|        swift|\n",
      "|[2018.0,9.83,2071...|         9.25|vitara brezza|\n",
      "|(7,[0,1,2],[2015....|         6.75|         ciaz|\n",
      "|[2015.0,8.61,3342...|          6.5|      s cross|\n",
      "|[2016.0,8.89,2027...|         8.75|         ciaz|\n",
      "|[2015.0,8.92,4236...|         7.45|         ciaz|\n",
      "|(7,[0,1,2],[2017....|         2.85|     alto 800|\n",
      "|[2015.0,10.38,510...|         6.85|         ciaz|\n",
      "|[2015.0,9.94,1500...|          7.5|         ciaz|\n",
      "|(7,[0,1,2],[2015....|          6.1|       ertiga|\n",
      "|(7,[0,1,2],[2009....|         2.25|        dzire|\n",
      "|[2016.0,10.79,430...|         7.75|       ertiga|\n",
      "|[2015.0,10.79,416...|         7.25|       ertiga|\n",
      "|[2016.0,10.79,430...|         7.75|       ertiga|\n",
      "|[2015.0,5.09,3550...|         3.25|      wagon r|\n",
      "|(7,[0,1,2],[2010....|         2.65|          sx4|\n",
      "+--------------------+-------------+-------------+\n",
      "only showing top 20 rows\n",
      "\n"
     ]
    }
   ],
   "source": [
    "from pyspark.ml.feature import VectorAssembler\n",
    "\n",
    "vectorAssembler = VectorAssembler(inputCols = ['Year', 'Present_Price', 'Kms_Driven', 'Owner', \n",
    "                                               'Fuel_Type_index', 'Seller_Type_index', 'Transmission_index'], outputCol = 'features')\n",
    "final_df = vectorAssembler.transform(df_pyspark)\n",
    "final_df = final_df.select(['features', 'selling_Price', 'Car_Name'])\n",
    "final_df.show()"
   ]
  },
  {
   "cell_type": "markdown",
   "id": "a64f714f",
   "metadata": {},
   "source": [
    "# Model Building"
   ]
  },
  {
   "cell_type": "code",
   "execution_count": 50,
   "id": "0a7c7b26",
   "metadata": {
    "scrolled": true
   },
   "outputs": [
    {
     "data": {
      "text/plain": [
       "[DataFrame[features: vector, selling_Price: double, Car_Name: string],\n",
       " DataFrame[features: vector, selling_Price: double, Car_Name: string]]"
      ]
     },
     "execution_count": 50,
     "metadata": {},
     "output_type": "execute_result"
    }
   ],
   "source": [
    "splits = final_df.randomSplit([0.7, 0.3]) # 70% data -trainining data,,,,,, 30% data- testing data\n",
    "train_df = splits[0]\n",
    "test_df = splits[1]\n",
    "#train_df,test_df=vhouse_df.randomSplit([0.7,0.3])\n",
    "splits"
   ]
  },
  {
   "cell_type": "code",
   "execution_count": 51,
   "id": "0efb66a9",
   "metadata": {},
   "outputs": [
    {
     "data": {
      "text/plain": [
       "301"
      ]
     },
     "execution_count": 51,
     "metadata": {},
     "output_type": "execute_result"
    }
   ],
   "source": [
    "final_df.count()"
   ]
  },
  {
   "cell_type": "code",
   "execution_count": 47,
   "id": "8502b7ae",
   "metadata": {},
   "outputs": [
    {
     "data": {
      "text/plain": [
       "218"
      ]
     },
     "execution_count": 47,
     "metadata": {},
     "output_type": "execute_result"
    }
   ],
   "source": [
    "train_df.count()"
   ]
  },
  {
   "cell_type": "code",
   "execution_count": 48,
   "id": "6f6fb1ee",
   "metadata": {},
   "outputs": [
    {
     "data": {
      "text/plain": [
       "83"
      ]
     },
     "execution_count": 48,
     "metadata": {},
     "output_type": "execute_result"
    }
   ],
   "source": [
    "test_df.count()"
   ]
  },
  {
   "cell_type": "markdown",
   "id": "26cd91aa",
   "metadata": {},
   "source": [
    "# Linear Regression Model"
   ]
  },
  {
   "cell_type": "code",
   "execution_count": null,
   "id": "13c05a97",
   "metadata": {},
   "outputs": [],
   "source": []
  },
  {
   "cell_type": "code",
   "execution_count": 59,
   "id": "7bee50d6",
   "metadata": {},
   "outputs": [
    {
     "name": "stdout",
     "output_type": "stream",
     "text": [
      "Intercept: -723.4479843145875\n"
     ]
    }
   ],
   "source": [
    "from pyspark.ml.regression import LinearRegression\n",
    "\n",
    "lr = LinearRegression(featuresCol = 'features', labelCol='selling_Price', maxIter= 12)\n",
    "\n",
    "lr_model = lr.fit(train_df)\n",
    "\n",
    "print(\"Intercept: \" + str(lr_model.intercept)) # y =mx+c>>>>>>>>c= intercept"
   ]
  },
  {
   "cell_type": "code",
   "execution_count": 37,
   "id": "60f07243",
   "metadata": {},
   "outputs": [],
   "source": [
    "#vectoreassembler is used to combine multiple column into a single vector column"
   ]
  },
  {
   "cell_type": "code",
   "execution_count": 60,
   "id": "9db28dcf",
   "metadata": {},
   "outputs": [
    {
     "name": "stdout",
     "output_type": "stream",
     "text": [
      "RMSE: 1.596861\n",
      "r2 for training data: 0.874095\n"
     ]
    }
   ],
   "source": [
    "trainingSummary = lr_model.summary\n",
    "print(\"RMSE: %f\" % trainingSummary.rootMeanSquaredError)\n",
    "print(\"r2 for training data: %f\" % trainingSummary.r2)\n"
   ]
  },
  {
   "cell_type": "code",
   "execution_count": 61,
   "id": "a4850af0",
   "metadata": {},
   "outputs": [
    {
     "name": "stdout",
     "output_type": "stream",
     "text": [
      "+-------------------+-------------+--------------------+\n",
      "|         prediction|selling_Price|            features|\n",
      "+-------------------+-------------+--------------------+\n",
      "|  4.465421651362249|         3.51|(7,[0,1,2],[2005....|\n",
      "|-0.3255475212217789|         1.05|(7,[0,1,2],[2006....|\n",
      "| 3.9161324457293176|          3.0|(7,[0,1,2],[2009....|\n",
      "| 1.1096338536784742|         1.95|(7,[0,1,2],[2010....|\n",
      "|  3.321030600587619|         2.65|(7,[0,1,2],[2010....|\n",
      "+-------------------+-------------+--------------------+\n",
      "only showing top 5 rows\n",
      "\n",
      "R Squared (R2) on test data = 0.826318\n"
     ]
    }
   ],
   "source": [
    "lr_predictions = lr_model.transform(test_df)\n",
    "lr_predictions.select(\"prediction\",\"selling_Price\",\"features\").show(5)\n",
    "\n",
    "from pyspark.ml.evaluation import RegressionEvaluator\n",
    "\n",
    "lr_evaluator = RegressionEvaluator(predictionCol=\"prediction\", \\\n",
    "                 labelCol=\"selling_Price\",metricName=\"r2\")\n",
    "print(\"R Squared (R2) on test data = %g\" % lr_evaluator.evaluate(lr_predictions))"
   ]
  },
  {
   "cell_type": "markdown",
   "id": "6aafedcc",
   "metadata": {},
   "source": [
    "# Decision tree regression"
   ]
  },
  {
   "cell_type": "code",
   "execution_count": 58,
   "id": "03aa2e6c",
   "metadata": {},
   "outputs": [
    {
     "name": "stdout",
     "output_type": "stream",
     "text": [
      "Root Mean Squared Error (RMSE) on test data = 2.78188\n",
      "R Squared (R2) on test data = 0.80686\n"
     ]
    }
   ],
   "source": [
    "from pyspark.ml.regression import DecisionTreeRegressor\n",
    "\n",
    "dt = DecisionTreeRegressor(featuresCol ='features', labelCol = 'selling_Price')\n",
    "\n",
    "dt_model = dt.fit(train_df)\n",
    "\n",
    "dt_predictions = dt_model.transform(test_df)\n",
    "\n",
    "dt_evaluator = RegressionEvaluator(\n",
    "    labelCol=\"selling_Price\", predictionCol=\"prediction\", metricName=\"rmse\")\n",
    "\n",
    "dt_evaluator_R2 = RegressionEvaluator(\n",
    "    labelCol=\"selling_Price\", predictionCol=\"prediction\", metricName=\"r2\")\n",
    "\n",
    "rmse = dt_evaluator.evaluate(dt_predictions)\n",
    "print(\"Root Mean Squared Error (RMSE) on test data = %g\" % rmse)\n",
    "print(\"R Squared (R2) on test data = %g\" % dt_evaluator_R2.evaluate(dt_predictions))"
   ]
  },
  {
   "cell_type": "code",
   "execution_count": 57,
   "id": "0f0683d9",
   "metadata": {},
   "outputs": [
    {
     "name": "stdout",
     "output_type": "stream",
     "text": [
      "+------------------+-------------+--------------------+\n",
      "|        prediction|selling_Price|            features|\n",
      "+------------------+-------------+--------------------+\n",
      "| 4.910416666666666|         3.51|(7,[0,1,2],[2005....|\n",
      "|              2.55|         1.05|(7,[0,1,2],[2006....|\n",
      "| 4.910416666666666|          3.0|(7,[0,1,2],[2009....|\n",
      "|              2.55|         1.95|(7,[0,1,2],[2010....|\n",
      "|2.2833333333333337|         2.65|(7,[0,1,2],[2010....|\n",
      "+------------------+-------------+--------------------+\n",
      "only showing top 5 rows\n",
      "\n"
     ]
    }
   ],
   "source": [
    "dt_predictions.select(\"prediction\",\"selling_Price\",\"features\").show(5)"
   ]
  },
  {
   "cell_type": "markdown",
   "id": "94716b14",
   "metadata": {},
   "source": [
    "# Gradient-boosted tree regression"
   ]
  },
  {
   "cell_type": "code",
   "execution_count": 62,
   "id": "9d65294c",
   "metadata": {},
   "outputs": [
    {
     "name": "stdout",
     "output_type": "stream",
     "text": [
      "+------------------+-------------+--------------------+\n",
      "|        prediction|selling_Price|            features|\n",
      "+------------------+-------------+--------------------+\n",
      "| 3.230020818102928|         3.51|(7,[0,1,2],[2005....|\n",
      "|2.5264772504270705|         1.05|(7,[0,1,2],[2006....|\n",
      "| 3.504559893844679|          3.0|(7,[0,1,2],[2009....|\n",
      "|2.3696003369717045|         1.95|(7,[0,1,2],[2010....|\n",
      "| 2.090847248810684|         2.65|(7,[0,1,2],[2010....|\n",
      "+------------------+-------------+--------------------+\n",
      "only showing top 5 rows\n",
      "\n"
     ]
    }
   ],
   "source": [
    "from pyspark.ml.regression import GBTRegressor\n",
    "gbt = GBTRegressor(featuresCol = 'features', labelCol = 'selling_Price', maxIter=10)\n",
    "gbt_model = gbt.fit(train_df)\n",
    "gbt_predictions = gbt_model.transform(test_df)\n",
    "gbt_predictions.select('prediction', 'selling_Price', 'features').show(5)"
   ]
  },
  {
   "cell_type": "code",
   "execution_count": 25,
   "id": "0bb5970a",
   "metadata": {},
   "outputs": [
    {
     "name": "stdout",
     "output_type": "stream",
     "text": [
      "Root Mean Squared Error (RMSE) on test data = 1.36863\n",
      "R Squared (R2) on test data = 0.913474\n"
     ]
    }
   ],
   "source": [
    "gbt_evaluator = RegressionEvaluator(\n",
    "    labelCol=\"selling_Price\", predictionCol=\"prediction\", metricName=\"rmse\")\n",
    "gbt_evaluator_r2 = RegressionEvaluator(\n",
    "    labelCol=\"selling_Price\", predictionCol=\"prediction\", metricName=\"r2\")\n",
    "rmse = gbt_evaluator.evaluate(gbt_predictions)\n",
    "\n",
    "print(\"Root Mean Squared Error (RMSE) on test data = %g\" % rmse)\n",
    "\n",
    "print(\"R Squared (R2) on test data = %g\" % gbt_evaluator_r2.evaluate(gbt_predictions))"
   ]
  },
  {
   "cell_type": "code",
   "execution_count": 63,
   "id": "13ad3290",
   "metadata": {},
   "outputs": [],
   "source": [
    "# stop the session\n",
    "sc.stop()"
   ]
  },
  {
   "cell_type": "code",
   "execution_count": 68,
   "id": "6baa864d",
   "metadata": {},
   "outputs": [
    {
     "name": "stdout",
     "output_type": "stream",
     "text": [
      "3.5.0\n"
     ]
    }
   ],
   "source": [
    "import pyspark\n",
    "print(pyspark.__version__)"
   ]
  },
  {
   "cell_type": "code",
   "execution_count": null,
   "id": "3620d655",
   "metadata": {},
   "outputs": [],
   "source": []
  }
 ],
 "metadata": {
  "kernelspec": {
   "display_name": "Python 3 (ipykernel)",
   "language": "python",
   "name": "python3"
  },
  "language_info": {
   "codemirror_mode": {
    "name": "ipython",
    "version": 3
   },
   "file_extension": ".py",
   "mimetype": "text/x-python",
   "name": "python",
   "nbconvert_exporter": "python",
   "pygments_lexer": "ipython3",
   "version": "3.11.5"
  }
 },
 "nbformat": 4,
 "nbformat_minor": 5
}
